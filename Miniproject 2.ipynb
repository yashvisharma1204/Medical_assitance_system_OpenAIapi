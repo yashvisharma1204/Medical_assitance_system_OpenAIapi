{
 "cells": [
  {
   "cell_type": "markdown",
   "id": "92acca1b-9d91-4bcd-bc9f-a270748c160d",
   "metadata": {},
   "source": [
    "# Medical Assistance System"
   ]
  },
  {
   "cell_type": "markdown",
   "id": "36075254-3aa9-48f1-8e80-da8c31410806",
   "metadata": {},
   "source": [
    "## Description:\n",
    "This project aims to provide medical assistance by predicting diseases, suggesting remedies, recommending hospitals, and estimating treatment costs and duration based on user input."
   ]
  },
  {
   "cell_type": "markdown",
   "id": "4edc3146-1276-44d1-bd0b-dfd34729dfea",
   "metadata": {},
   "source": [
    "## Project Components:\n",
    "1. **Langchain Module:**\n",
    "    - Contains modules for OpenAI language models and various utilities.\n",
    "\n",
    "2. **Main Module (main.py):**\n",
    "    - Acts as the entry point for the Medical Assistance System.\n",
    "    - Collects user input about patient details and symptoms.\n",
    "    - Utilizes sequential chains to predict diseases, suggest remedies, recommend hospitals, and estimate treatment costs and duration.\n",
    "    - Displays the results to the user."
   ]
  },
  {
   "cell_type": "markdown",
   "id": "3ceca120-c1ca-402a-ba8e-39e93da99fd8",
   "metadata": {},
   "source": [
    "## Code Implementation"
   ]
  },
  {
   "cell_type": "code",
   "execution_count": 1,
   "id": "5b6b7c63-d611-42ab-81c3-636b2b86bfd0",
   "metadata": {},
   "outputs": [],
   "source": [
    "from langchain.llms import OpenAI\n",
    "from langchain.prompts import PromptTemplate\n",
    "from langchain.chains import SequentialChain, LLMChain\n",
    "from langchain.memory import ConversationBufferMemory"
   ]
  },
  {
   "cell_type": "markdown",
   "id": "c9f6cd37-2f86-4952-8705-a7a70f06fb9e",
   "metadata": {},
   "source": [
    "### Initialize OpenAI client"
   ]
  },
  {
   "cell_type": "code",
   "execution_count": 2,
   "id": "002a3e06-3645-49c0-a65c-0a698a7a5376",
   "metadata": {},
   "outputs": [
    {
     "name": "stderr",
     "output_type": "stream",
     "text": [
      "C:\\Users\\YASHVI\\anaconda3\\envs\\testingopenai\\lib\\site-packages\\langchain_core\\_api\\deprecation.py:117: LangChainDeprecationWarning: The class `langchain_community.llms.openai.OpenAI` was deprecated in langchain-community 0.0.10 and will be removed in 0.2.0. An updated version of the class exists in the langchain-openai package and should be used instead. To use it run `pip install -U langchain-openai` and import as `from langchain_openai import OpenAI`.\n",
      "  warn_deprecated(\n"
     ]
    }
   ],
   "source": [
    "mykey =\"your key\"\n",
    "client = OpenAI(api_key=mykey)"
   ]
  },
  {
   "cell_type": "markdown",
   "id": "2bf420c2-5482-4cd0-9965-5083051536e6",
   "metadata": {},
   "source": [
    "### Define Prompt Templates"
   ]
  },
  {
   "cell_type": "code",
   "execution_count": 12,
   "id": "0cd746bf-e262-4029-96f9-25ee3e64b3fb",
   "metadata": {},
   "outputs": [],
   "source": [
    "patient_template = PromptTemplate(\n",
    "    input_variables=['name', 'age', 'symptoms', 'severity', 'city', 'duration'],\n",
    "    template=\"I am {name}, {age} years old, experiencing {symptoms} with severity {severity} in {city} for {duration} days. Based on these suggest remedies in few words 10 words\"\n",
    ")\n",
    "\n",
    "hospital_template = PromptTemplate(\n",
    "    input_variables=['symptoms', 'city', 'severity'],\n",
    "    template=\"Based on symptoms: {symptoms}, severity: {severity}, and city: {city}, recommend only three hospitals names and place for treatment in points and nothing else just the name and place.\"\n",
    ")\n",
    "cost_template = PromptTemplate(\n",
    "    input_variables=['severity', 'symptoms', 'duration', 'hospital_recommendations'],\n",
    "    template=\"Based on the {hospital_recommendations} and additionally severity: {severity}, symptomps:{symptoms}, and duration of symptoms: {duration}, please predict only the anticipated cost in range in rupees (in numbers) for being admitted in those hospitals. Briefly write the name of hospitals and then the predicted costs it will take to be admitted there.\"\n",
    ")\n",
    "time_template = PromptTemplate(\n",
    "    input_variables=['severity','symptoms','hospital_recommendations'],\n",
    "    template=\"Based on the severity: {severity} please predict just the anticipated recovery days/weeks/months range of given symptoms: {symptoms} in few words like 2-3 words just give the time of them\"\n",
    ")\n",
    "guess_disease = PromptTemplate(\n",
    "    input_variables=['severity','symptoms'],\n",
    "    template=\"Based on the all symptoms: {symptoms} and severity:{severity} predict the disease of the person in one word\"\n",
    ")"
   ]
  },
  {
   "cell_type": "markdown",
   "id": "52e46404-8ee6-4eda-8fc9-6ee8dad27600",
   "metadata": {},
   "source": [
    "### Initialize LLM Chains"
   ]
  },
  {
   "cell_type": "code",
   "execution_count": 13,
   "id": "6ed2e224-4741-45be-a2df-cc2188fe5d03",
   "metadata": {},
   "outputs": [],
   "source": [
    "guess_chain = LLMChain(llm=client, prompt=guess_disease, output_key=\"disease\")\n",
    "remedies_chain = LLMChain(llm=client, prompt=patient_template, output_key=\"remedies\")\n",
    "hospitals_chain = LLMChain(llm=client, prompt=hospital_template, output_key=\"hospital_recommendations\")\n",
    "cost_chain=LLMChain(llm=client, prompt=cost_template, output_key=\"cost\")\n",
    "time_chain=LLMChain(llm=client, prompt=time_template, output_key=\"time\")"
   ]
  },
  {
   "cell_type": "markdown",
   "id": "6f2dc368-1000-4724-858a-ad1c789a3960",
   "metadata": {},
   "source": [
    "### Define Sequential Chains"
   ]
  },
  {
   "cell_type": "code",
   "execution_count": 14,
   "id": "bbe09369-b225-4fca-917a-3a66e292c359",
   "metadata": {},
   "outputs": [],
   "source": [
    "sequential_chain1 = SequentialChain(\n",
    "    chains=[guess_chain,remedies_chain, hospitals_chain],\n",
    "    input_variables=['name', 'age', 'symptoms', 'severity', 'city', 'duration'],\n",
    "    output_variables=[\"disease\",\"remedies\", \"hospital_recommendations\"]\n",
    ")\n",
    "sequential_chain2=SequentialChain(\n",
    "    chains=[cost_chain,time_chain],\n",
    "    input_variables=['duration','symptoms','severity', \"hospital_recommendations\"],\n",
    "    output_variables=[\"cost\",\"time\"]\n",
    ")"
   ]
  },
  {
   "cell_type": "markdown",
   "id": "1014b7fd-8521-40e1-bc92-0a763d3beb05",
   "metadata": {},
   "source": [
    "### User Input"
   ]
  },
  {
   "cell_type": "code",
   "execution_count": 15,
   "id": "c3aaa748-9d26-4eed-ace5-4bf36decb553",
   "metadata": {},
   "outputs": [
    {
     "name": "stdin",
     "output_type": "stream",
     "text": [
      "Name:  Yashvi\n",
      "Age:  19\n",
      "Symptoms:  sadness, depression headache, loss of apetite\n",
      "Severity:  high\n",
      "City:  dwarka, new delhi\n",
      "Duration of symptoms:  2 months\n"
     ]
    }
   ],
   "source": [
    "name = input(\"Name: \")\n",
    "age = input(\"Age: \")\n",
    "symptoms = input(\"Symptoms: \")\n",
    "severity = input(\"Severity: \")\n",
    "city = input(\"City: \")\n",
    "duration = input(\"Duration of symptoms: \")\n",
    "response1 = sequential_chain1({\"name\": name, \"age\": age, \"symptoms\": symptoms, \"severity\": severity, \"city\": city, \"duration\": duration})\n",
    "response2 = sequential_chain2({\"symptoms\": symptoms, \"severity\": severity,\"duration\": duration,\"hospital_recommendations\":response1[\"hospital_recommendations\"]})"
   ]
  },
  {
   "cell_type": "markdown",
   "id": "6619ebb2-edeb-4da8-a3ac-f4ee47e25b22",
   "metadata": {},
   "source": [
    "### Execute Sequential Chains"
   ]
  },
  {
   "cell_type": "code",
   "execution_count": 17,
   "id": "47ea46e1-3a65-4dfb-919d-ab9158d7c70f",
   "metadata": {},
   "outputs": [],
   "source": [
    "disease = response1['disease']\n",
    "remedies = response1[\"remedies\"]\n",
    "hospital_recommendations = response1[\"hospital_recommendations\"]\n",
    "cost = response2[\"cost\"]\n",
    "time_of_treatment = response2[\"time\"]"
   ]
  },
  {
   "cell_type": "markdown",
   "id": "b1d6bd79-e01a-47c7-ac43-6e0399d6cc93",
   "metadata": {},
   "source": [
    "## Output Results"
   ]
  },
  {
   "cell_type": "code",
   "execution_count": 18,
   "id": "989ec1f3-89ee-43a5-8668-081580292758",
   "metadata": {},
   "outputs": [
    {
     "name": "stdout",
     "output_type": "stream",
     "text": [
      "Name: Yashvi\n",
      "Age: 19\n",
      "Symptoms: sadness, depression headache, loss of apetite\n",
      "Severity: high\n",
      "City: dwarka, new delhi\n",
      "\n",
      "Health issue: \n",
      "\n",
      "MajorDepressiveDisorder\n",
      "\n",
      "Remedies for sadness, depression headache, loss of apetite will be: \n",
      "\n",
      "1. Seek therapy or counseling\n",
      "2. Practice relaxation techniques\n",
      "3. Exercise regularly\n",
      "4. Maintain a healthy diet\n",
      "5. Get enough sleep\n",
      "6. Engage in hobbies or activities you enjoy\n",
      "7. Try mindfulness or meditation\n",
      "8. Consider medication if needed\n",
      "9. Talk to a trusted friend or family member\n",
      "10. Seek support from a mental health professional.\n",
      "\n",
      "Hospital Recommendations: \n",
      "\n",
      "1. Max Super Speciality Hospital, Saket - located in South Delhi, about 30 minutes from Dwarka. \n",
      "2. Fortis Hospital, Vasant Kunj - located in South West Delhi, about 20 minutes from Dwarka. \n",
      "3. BLK Super Speciality Hospital, Pusa Road - located in Central Delhi, about 40 minutes from Dwarka.\n",
      "\n",
      "Cost of treatment \n",
      "\n",
      "1. Max Super Speciality Hospital, Saket - Estimated cost for admission: Rs. 1,50,000 - Rs. 2,00,000\n",
      "2. Fortis Hospital, Vasant Kunj - Estimated cost for admission: Rs. 1,00,000 - Rs. 1,50,000\n",
      "3. BLK Super Speciality Hospital, Pusa Road - Estimated cost for admission: Rs. 2,00,000 - Rs. 2,50,000\n",
      "\n",
      "Time of treatment \n",
      "\n",
      "2-4 weeks\n"
     ]
    }
   ],
   "source": [
    "print('Name:',name)\n",
    "print('Age:',age)\n",
    "print('Symptoms:',symptoms)\n",
    "print('Severity:',severity)\n",
    "print('City:',city)\n",
    "print(\"\\nHealth issue:\",disease)\n",
    "print(\"\\nRemedies for\",symptoms, \"will be:\", remedies)\n",
    "print(\"\\nHospital Recommendations:\", hospital_recommendations)\n",
    "print(\"\\nCost of treatment\", cost)\n",
    "print(\"\\nTime of treatment\", time_of_treatment)\n"
   ]
  },
  {
   "cell_type": "code",
   "execution_count": null,
   "id": "6244aa0f-4ece-40fd-8613-b649cc6a290e",
   "metadata": {},
   "outputs": [],
   "source": []
  },
  {
   "cell_type": "code",
   "execution_count": null,
   "id": "7e23614b-cfe4-4b2e-a8fa-33ae8261a1fd",
   "metadata": {},
   "outputs": [],
   "source": []
  }
 ],
 "metadata": {
  "kernelspec": {
   "display_name": "Python 3 (ipykernel)",
   "language": "python",
   "name": "python3"
  },
  "language_info": {
   "codemirror_mode": {
    "name": "ipython",
    "version": 3
   },
   "file_extension": ".py",
   "mimetype": "text/x-python",
   "name": "python",
   "nbconvert_exporter": "python",
   "pygments_lexer": "ipython3",
   "version": "3.8.19"
  }
 },
 "nbformat": 4,
 "nbformat_minor": 5
}
